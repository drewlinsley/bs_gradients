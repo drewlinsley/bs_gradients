{
 "cells": [
  {
   "cell_type": "code",
   "execution_count": null,
   "metadata": {},
   "outputs": [],
   "source": [
    "## Image Shifting\n",
    "\n",
    "## Imports\n",
    "import os\n",
    "from PIL import Image\n",
    "import cv2\n",
    "import numpy as np\n",
    "import shutil\n",
    "\n",
    "## Parameters\n",
    "x_shift = 3\n",
    "y_shift = 0\n",
    "original_path = '/cifs/data/tserre_lrs/projects/prj_brainscore/hackaton2021/.brainio/image_dicarlo_hvm-private'\n",
    "shifted_path = '/cifs/data/tserre_lrs/projects/prj_brainscore/hackaton2021/.brainio/image_dicarlo_hvm_shifted'\n",
    "\n",
    "def shifted_imread(input_image):\n",
    "    image = cv2.imread(input_image) \n",
    "    num_rows, num_cols = image.shape[:2]\n",
    "    transition_function = np.float32([[1,0,x_shift], [0,1,y_shift]])\n",
    "    shifted_image = cv2.warpAffine(image, transition_function, (num_cols,num_rows))\n",
    "    return shifted_image\n",
    "\n",
    "for i in os.listdir(original_path):\n",
    "    os.chdir(original_path)\n",
    "    \n",
    "    if (i == 'image_dicarlo_hvm-private.csv'):\n",
    "        # shutil.copy(i, shifted_path)\n",
    "        print(\"Don't have permission to copy CSV\")\n",
    "    else:\n",
    "        if (i == 'image_dicarlo_hvm-private.zip'):\n",
    "            # shutil.copy(i, shifted_path)\n",
    "            print(\"Don't have permission to copy ZIP\")\n",
    "        else:\n",
    "            shifted_im = shifted_imread(i)\n",
    "    \n",
    "            os.chdir(shifted_path)\n",
    "            im = Image.fromarray(shifted_im)\n",
    "            im.save(i)\n",
    "\n",
    "    "
   ]
  }
 ],
 "metadata": {
  "kernelspec": {
   "display_name": "Python 3",
   "language": "python",
   "name": "python3"
  },
  "language_info": {
   "codemirror_mode": {
    "name": "ipython",
    "version": 3
   },
   "file_extension": ".py",
   "mimetype": "text/x-python",
   "name": "python",
   "nbconvert_exporter": "python",
   "pygments_lexer": "ipython3",
   "version": "3.6.5"
  }
 },
 "nbformat": 4,
 "nbformat_minor": 2
}
