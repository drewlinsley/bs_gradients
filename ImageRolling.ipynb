{
 "cells": [
  {
   "cell_type": "code",
   "execution_count": null,
   "id": "3a647402-f609-47ec-9d8b-19481288197b",
   "metadata": {},
   "outputs": [
    {
     "name": "stdout",
     "output_type": "stream",
     "text": [
      "Don't have permission to copy CSV\n",
      "Don't have permission to copy ZIP\n"
     ]
    }
   ],
   "source": [
    "## Image Rolling with numpy.roll\n",
    "\n",
    "## Imports\n",
    "import os\n",
    "from PIL import Image\n",
    "import cv2\n",
    "import numpy as np\n",
    "import shutil\n",
    "import random\n",
    "import numpy\n",
    "\n",
    "## Parameters\n",
    "x_shift_min = 0\n",
    "x_shift_max = 6\n",
    "y_shift_min = 0\n",
    "y_shift_max = 0\n",
    "original_path = '/cifs/data/tserre_lrs/projects/prj_brainscore/hackaton2021/.brainio/image_dicarlo_hvm-private'\n",
    "shifted_path = '/cifs/data/tserre_lrs/projects/prj_brainscore/hackaton2021/.brainio/image_dicarlo_hvm_rolled'\n",
    "\n",
    "## Making Directory (commented out because already done)\n",
    "# mkdir shifted_path\n",
    "\n",
    "## Rolling Images\n",
    "def shifted_imread(input_image):\n",
    "    image = cv2.imread(input_image) \n",
    "    shifted_image_x = numpy.roll(image, random.randint(x_shift_min, x_shift_max), 1)\n",
    "    shifted_image = numpy.roll(shifted_image_x, random.randint(y_shift_min, y_shift_max), 0)\n",
    "    return shifted_image\n",
    "\n",
    "for i in os.listdir(original_path):\n",
    "    os.chdir(original_path)\n",
    "    \n",
    "    if (i == 'image_dicarlo_hvm-private.csv'):\n",
    "        # shutil.copy(i, shifted_path)\n",
    "        print(\"Don't have permission to copy CSV\")\n",
    "    else:\n",
    "        if (i == 'image_dicarlo_hvm-private.zip'):\n",
    "            # shutil.copy(i, shifted_path)\n",
    "            print(\"Don't have permission to copy ZIP\")\n",
    "        else:\n",
    "            shifted_im = shifted_imread(i)\n",
    "    \n",
    "            os.chdir(shifted_path)\n",
    "            im = Image.fromarray(shifted_im)\n",
    "            im.save(i)\n",
    "\n",
    "    "
   ]
  },
  {
   "cell_type": "code",
   "execution_count": null,
   "id": "7463b64e-4620-49ec-b6e1-d880400a17c6",
   "metadata": {},
   "outputs": [],
   "source": []
  }
 ],
 "metadata": {
  "kernelspec": {
   "display_name": "Python 3 (ipykernel)",
   "language": "python",
   "name": "python3"
  },
  "language_info": {
   "codemirror_mode": {
    "name": "ipython",
    "version": 3
   },
   "file_extension": ".py",
   "mimetype": "text/x-python",
   "name": "python",
   "nbconvert_exporter": "python",
   "pygments_lexer": "ipython3",
   "version": "3.7.11"
  }
 },
 "nbformat": 4,
 "nbformat_minor": 5
}
